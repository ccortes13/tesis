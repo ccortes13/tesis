{
 "cells": [
  {
   "cell_type": "code",
   "execution_count": 1,
   "metadata": {},
   "outputs": [],
   "source": [
    "using FastaIO\n",
    "using Glob\n",
    "using JuMP\n",
    "using Clp\n",
    "using Images, Colors"
   ]
  },
  {
   "cell_type": "code",
   "execution_count": 16,
   "metadata": {},
   "outputs": [
    {
     "data": {
      "text/plain": [
       "sigLetra (generic function with 1 method)"
      ]
     },
     "execution_count": 16,
     "metadata": {},
     "output_type": "execute_result"
    }
   ],
   "source": [
    "#Ojo cambio de vertices\n",
    "n = 256\n",
    "A = (0,0)\n",
    "C = (0,n)\n",
    "G = (n,n)\n",
    "T = (n,0)\n",
    "\n",
    "x_0 = (n/2,n/2)\n",
    "\n",
    "sigCuadro(x_0,nuc) = (ceil((x_0[1]+nuc[1])/2),ceil((x_0[2]+nuc[2])/2))\n",
    "\n",
    "function sigLetra(x_0,nt)\n",
    "    if nt == 'A'\n",
    "        x = A\n",
    "    elseif nt == 'C'\n",
    "        x = C\n",
    "    elseif nt == 'G'\n",
    "        x = G\n",
    "    elseif nt == 'T'\n",
    "        x = T\n",
    "    else\n",
    "        x = x_0\n",
    "    end\n",
    "    \n",
    "    return sigCuadro(x_0,x)\n",
    "end    "
   ]
  },
  {
   "cell_type": "code",
   "execution_count": 17,
   "metadata": {},
   "outputs": [
    {
     "data": {
      "text/plain": [
       "archivoMatriz (generic function with 1 method)"
      ]
     },
     "execution_count": 17,
     "metadata": {},
     "output_type": "execute_result"
    }
   ],
   "source": [
    "#Dado un archivo de texto en formato fasta\n",
    "#regresa toda la secuencia de nucleótidos en un string\n",
    "function creaSeq(archivo)\n",
    "    secuencia = \"\"\n",
    "    for (name, seq) in FastaReader(archivo)\n",
    "        secuencia = secuencia*seq\n",
    "    end\n",
    "    \n",
    "    return secuencia\n",
    "end \n",
    "\n",
    "#Regresa Matriz de nxn que representa \n",
    "#la imagen fractal en escala de grises\n",
    "\n",
    "function creaMatriz(secuencia)\n",
    "    jump = 1/length(secuencia)\n",
    "    fractal_mat = zeros(n,n)\n",
    "    x_0 = (n/2,n/2)\n",
    "    \n",
    "    for i in secuencia\n",
    "        x_0 = sigLetra(x_0,i)\n",
    "        x = Int(x_0[1])\n",
    "        y = Int(x_0[2])\n",
    "        fractal_mat[x,y] += jump\n",
    "    end\n",
    "    \n",
    "    return fractal_mat\n",
    "end\n",
    "\n",
    "#Toma un archivo fasta y regresa matriz que\n",
    "#representa al fractal\n",
    "function archivoMatriz(archivo)\n",
    "    sec = creaSeq(archivo)\n",
    "    mat = creaMatriz(sec)\n",
    "    return mat\n",
    "end"
   ]
  },
  {
   "cell_type": "code",
   "execution_count": 11,
   "metadata": {},
   "outputs": [
    {
     "name": "stdout",
     "output_type": "stream",
     "text": [
      "9\n"
     ]
    }
   ],
   "source": [
    "nombres = glob(\"*.fsa_nt\")\n",
    "matrices = map(archivoMatriz,nombres)\n",
    "println(length(matrices))"
   ]
  },
  {
   "cell_type": "code",
   "execution_count": 12,
   "metadata": {},
   "outputs": [
    {
     "data": {
      "text/plain": [
       "JuMP.JuMPArray{JuMP.ConstraintRef,2,Tuple{UnitRange{Int64},UnitRange{Int64}}}(JuMP.ConstraintRef[x[1,2] - x[1,1] ≤ 1 x[1,3] - x[1,2] ≤ 1 … x[1,255] - x[1,254] ≤ 1 x[1,256] - x[1,255] ≤ 1; x[2,2] - x[2,1] ≤ 1 x[2,3] - x[2,2] ≤ 1 … x[2,255] - x[2,254] ≤ 1 x[2,256] - x[2,255] ≤ 1; … ; x[255,2] - x[255,1] ≤ 1 x[255,3] - x[255,2] ≤ 1 … x[255,255] - x[255,254] ≤ 1 x[255,256] - x[255,255] ≤ 1; x[256,2] - x[256,1] ≤ 1 x[256,3] - x[256,2] ≤ 1 … x[256,255] - x[256,254] ≤ 1 x[256,256] - x[256,255] ≤ 1], (1:256, 2:256), (Dict{Int64,Int64}(), Dict{Int64,Int64}()), Dict{Symbol,Any}())"
      ]
     },
     "execution_count": 12,
     "metadata": {},
     "output_type": "execute_result"
    }
   ],
   "source": [
    "m = Model(solver = ClpSolver())\n",
    "\n",
    "@variable(m, x[1:n,1:n] >= 0)\n",
    "\n",
    "@constraint(m,const1[i=1:n-1,j=1:n], x[i,j]-x[i+1,j] <= 1)\n",
    "@constraint(m,const2[i=2:n,j=1:n], x[i,j]-x[i-1,j] <= 1)\n",
    "@constraint(m,const3[i=1:n,j=1:n-1], x[i,j]-x[i,j+1] <= 1)\n",
    "@constraint(m,const4[i=1:n,j=2:n], x[i,j]-x[i,j-1] <= 1)"
   ]
  },
  {
   "cell_type": "code",
   "execution_count": 13,
   "metadata": {},
   "outputs": [
    {
     "data": {
      "text/plain": [
       "optimiza (generic function with 1 method)"
      ]
     },
     "execution_count": 13,
     "metadata": {},
     "output_type": "execute_result"
    }
   ],
   "source": [
    "function optimiza(C)\n",
    "    if sum(C) < 0\n",
    "        C *= -1\n",
    "    end\n",
    "    @objective(m, Max, sum(C[i,j]*x[i,j] for i=1:n for j=1:n))\n",
    "    status = solve(m)\n",
    "    res = getobjectivevalue(m)\n",
    "    return res              \n",
    "end"
   ]
  },
  {
   "cell_type": "code",
   "execution_count": 14,
   "metadata": {},
   "outputs": [
    {
     "data": {
      "text/plain": [
       "renglon (generic function with 1 method)"
      ]
     },
     "execution_count": 14,
     "metadata": {},
     "output_type": "execute_result"
    }
   ],
   "source": [
    "function renglon(i,matrices)\n",
    "    test = map(x -> matrices[i]-x,matrices)\n",
    "    resultados = map(optimiza,test[i+1:length(matrices)])\n",
    "    return vcat(zeros(i),resultados)\n",
    "end"
   ]
  },
  {
   "cell_type": "code",
   "execution_count": null,
   "metadata": {},
   "outputs": [],
   "source": [
    "for i in 1:8\n",
    "    println(renglon(i,matrices))\n",
    "end"
   ]
  },
  {
   "cell_type": "code",
   "execution_count": 17,
   "metadata": {},
   "outputs": [
    {
     "name": "stdout",
     "output_type": "stream",
     "text": [
      "String[\"abyssalis_10389.fsa_nt\", \"abyssalis_10390.fsa_nt\", \"nanshensis_01066.fsa_nt\", \"nanshensis_10372.fsa_nt\", \"nanshensis_10374.fsa_nt\", \"nanshensis_10399.fsa_nt\", \"nanshensis_10429.fsa_nt\", \"oceani_02100.fsa_nt\", \"qinglanesis_M10379.fsa_nt\"]"
     ]
    }
   ],
   "source": [
    "print(nombres)"
   ]
  },
  {
   "cell_type": "code",
   "execution_count": 122,
   "metadata": {},
   "outputs": [
    {
     "data": {
      "text/plain": [
       "creaDibujo (generic function with 1 method)"
      ]
     },
     "execution_count": 122,
     "metadata": {},
     "output_type": "execute_result"
    }
   ],
   "source": [
    "function creaDibujo(secuencia)\n",
    "    jump = 1/4379\n",
    "    fractal_mat = ones(n,n)\n",
    "    x_0 = (n/2,n/2)\n",
    "    \n",
    "    for i in secuencia\n",
    "        x_0 = sigLetra(x_0,i)\n",
    "        x = Int(x_0[1])\n",
    "        y = Int(x_0[2])\n",
    "        fractal_mat[x,y] -= jump\n",
    "    end\n",
    "    \n",
    "    temp = reshape(fractal_mat,n*n)\n",
    "    norm = maximum(temp)\n",
    "    print(norm)\n",
    "    \n",
    "   \n",
    "    \n",
    "    return fractal_mat\n",
    "end"
   ]
  },
  {
   "cell_type": "code",
   "execution_count": 123,
   "metadata": {},
   "outputs": [
    {
     "name": "stdout",
     "output_type": "stream",
     "text": [
      "1.0"
     ]
    },
    {
     "data": {
      "text/plain": [
       "256×256 Array{Float64,2}:\n",
       " 0.999772  0.999315  0.998858  0.999315  …  0.979219  0.998401  0.996118\n",
       " 1.0       0.999087  0.999772  1.0          0.986527  0.996575  0.997488\n",
       " 1.0       1.0       0.999315  0.999315     0.978534  0.985156  0.95113 \n",
       " 1.0       0.999543  0.998858  0.999315     0.980361  0.982873  0.975794\n",
       " 0.999772  1.0       0.999772  1.0          0.949075  0.943138  0.839461\n",
       " 1.0       0.999772  1.0       1.0       …  0.964375  0.930806  0.902489\n",
       " 1.0       0.999772  1.0       0.999543     0.954099  0.965061  0.884449\n",
       " 1.0       1.0       0.999543  0.999772     0.958895  0.971226  0.963005\n",
       " 1.0       0.999772  1.0       0.999543     0.925325  0.903631  0.844028\n",
       " 1.0       0.999772  0.999772  0.999772     0.905686  0.903403  0.761133\n",
       " 0.999772  1.0       0.999772  0.999772  …  0.901347  0.92464   0.855675\n",
       " 1.0       1.0       1.0       0.999543     0.929208  0.923042  0.862982\n",
       " 1.0       1.0       1.0       0.999772     0.940169  0.901119  0.812971\n",
       " ⋮                                       ⋱                      ⋮       \n",
       " 0.999772  1.0       0.999772  0.999315     0.911395  0.930578  0.84517 \n",
       " 0.999772  0.999772  1.0       0.999315  …  0.91208   0.914136  0.8285  \n",
       " 0.999772  1.0       0.999543  0.999543     0.913907  0.930806  0.705184\n",
       " 0.999772  1.0       1.0       0.999315     0.893583  0.932405  0.682348\n",
       " 1.0       0.999543  1.0       0.999543     0.950445  0.946106  0.917789\n",
       " 0.999772  1.0       1.0       0.999772     0.928979  0.939941  0.847225\n",
       " 1.0       0.999772  0.998858  0.999087  …  0.938114  0.950217  0.880795\n",
       " 0.999772  0.999315  0.999087  0.999772     0.934688  0.940397  0.800639\n",
       " 0.999772  0.999772  0.999087  0.999543     0.989495  0.980132  0.947933\n",
       " 0.999772  0.998858  0.999772  0.999315     0.983786  0.980132  0.954784\n",
       " 0.999543  0.999543  0.999087  0.999087     0.983101  0.998858  0.995433\n",
       " 1.0       0.999543  0.999315  0.999315  …  0.97762   0.997945  0.94702 "
      ]
     },
     "execution_count": 123,
     "metadata": {},
     "output_type": "execute_result"
    }
   ],
   "source": [
    "pppp = creaDibujo(creaSeq(\"nanshensis_01066.fsa_nt\"))"
   ]
  },
  {
   "cell_type": "code",
   "execution_count": 124,
   "metadata": {},
   "outputs": [
    {
     "data": {
      "image/png": "[encoded data removed]",
      "text/plain": [
       "256×256 Array{Gray{Float64},2}:\n",
       " Gray{Float64}(0.999772)  Gray{Float64}(0.999315)  …  Gray{Float64}(0.996118)\n",
       " Gray{Float64}(1.0)       Gray{Float64}(0.999087)     Gray{Float64}(0.997488)\n",
       " Gray{Float64}(1.0)       Gray{Float64}(1.0)          Gray{Float64}(0.95113) \n",
       " Gray{Float64}(1.0)       Gray{Float64}(0.999543)     Gray{Float64}(0.975794)\n",
       " Gray{Float64}(0.999772)  Gray{Float64}(1.0)          Gray{Float64}(0.839461)\n",
       " Gray{Float64}(1.0)       Gray{Float64}(0.999772)  …  Gray{Float64}(0.902489)\n",
       " Gray{Float64}(1.0)       Gray{Float64}(0.999772)     Gray{Float64}(0.884449)\n",
       " Gray{Float64}(1.0)       Gray{Float64}(1.0)          Gray{Float64}(0.963005)\n",
       " Gray{Float64}(1.0)       Gray{Float64}(0.999772)     Gray{Float64}(0.844028)\n",
       " Gray{Float64}(1.0)       Gray{Float64}(0.999772)     Gray{Float64}(0.761133)\n",
       " Gray{Float64}(0.999772)  Gray{Float64}(1.0)       …  Gray{Float64}(0.855675)\n",
       " Gray{Float64}(1.0)       Gray{Float64}(1.0)          Gray{Float64}(0.862982)\n",
       " Gray{Float64}(1.0)       Gray{Float64}(1.0)          Gray{Float64}(0.812971)\n",
       " ⋮                                                 ⋱  ⋮                      \n",
       " Gray{Float64}(0.999772)  Gray{Float64}(1.0)          Gray{Float64}(0.84517) \n",
       " Gray{Float64}(0.999772)  Gray{Float64}(0.999772)  …  Gray{Float64}(0.8285)  \n",
       " Gray{Float64}(0.999772)  Gray{Float64}(1.0)          Gray{Float64}(0.705184)\n",
       " Gray{Float64}(0.999772)  Gray{Float64}(1.0)          Gray{Float64}(0.682348)\n",
       " Gray{Float64}(1.0)       Gray{Float64}(0.999543)     Gray{Float64}(0.917789)\n",
       " Gray{Float64}(0.999772)  Gray{Float64}(1.0)          Gray{Float64}(0.847225)\n",
       " Gray{Float64}(1.0)       Gray{Float64}(0.999772)  …  Gray{Float64}(0.880795)\n",
       " Gray{Float64}(0.999772)  Gray{Float64}(0.999315)     Gray{Float64}(0.800639)\n",
       " Gray{Float64}(0.999772)  Gray{Float64}(0.999772)     Gray{Float64}(0.947933)\n",
       " Gray{Float64}(0.999772)  Gray{Float64}(0.998858)     Gray{Float64}(0.954784)\n",
       " Gray{Float64}(0.999543)  Gray{Float64}(0.999543)     Gray{Float64}(0.995433)\n",
       " Gray{Float64}(1.0)       Gray{Float64}(0.999543)  …  Gray{Float64}(0.94702) "
      ]
     },
     "execution_count": 124,
     "metadata": {},
     "output_type": "execute_result"
    }
   ],
   "source": [
    "Gray.(pppp)"
   ]
  },
  {
   "cell_type": "code",
   "execution_count": 118,
   "metadata": {},
   "outputs": [
    {
     "data": {
      "text/plain": [
       "7429612"
      ]
     },
     "execution_count": 118,
     "metadata": {},
     "output_type": "execute_result"
    }
   ],
   "source": [
    "#Parte aleaoria para verificar hipótesis de IFS con probabilidades\n",
    "simulans =  creaSeq(\"nanshensis_01066.fsa_nt\")\n",
    "length(simulans)"
   ]
  },
  {
   "cell_type": "code",
   "execution_count": 45,
   "metadata": {},
   "outputs": [
    {
     "data": {
      "text/plain": [
       "cuentaNuc (generic function with 1 method)"
      ]
     },
     "execution_count": 45,
     "metadata": {},
     "output_type": "execute_result"
    }
   ],
   "source": [
    "#Cuenta el numero de cada nucleotido \n",
    "function cuentaNuc(seq)\n",
    "    A = 0\n",
    "    C = 0\n",
    "    G = 0\n",
    "    T = 0\n",
    "    for i in seq\n",
    "        if i == 'A'\n",
    "            A += 1\n",
    "        elseif i == 'C'\n",
    "            C += 1\n",
    "        elseif i == 'G'\n",
    "            G += 1\n",
    "        elseif i == 'T'\n",
    "            T += 1\n",
    "        end\n",
    "    end\n",
    "    println(A/3545250)\n",
    "    println(C/3545250)\n",
    "    println(G/3545250)\n",
    "    println(T/3545250)\n",
    "end"
   ]
  },
  {
   "cell_type": "code",
   "execution_count": 125,
   "metadata": {},
   "outputs": [
    {
     "name": "stdout",
     "output_type": "stream",
     "text": [
      "0.30471504125237997\n",
      "0.7379902686693464\n",
      "0.7362400394894577\n",
      "0.30475904379098795\n"
     ]
    }
   ],
   "source": [
    "cuentaNuc(simulans)"
   ]
  },
  {
   "cell_type": "code",
   "execution_count": 131,
   "metadata": {},
   "outputs": [
    {
     "data": {
      "text/plain": [
       "dibujoRand (generic function with 1 method)"
      ]
     },
     "execution_count": 131,
     "metadata": {},
     "output_type": "execute_result"
    }
   ],
   "source": [
    "function dibujoRand(a,c,g,t,l)\n",
    "    i = 1\n",
    "    jump = 1\n",
    "    mat = zeros(n,n)\n",
    "    x_0 = (n/2,n/2)\n",
    "    while i <= l\n",
    "        r = rand()\n",
    "        if (0 <= r) & (r <= a)\n",
    "            x_0 = sigLetra(x_0,'A')\n",
    "        elseif (a < r) & (r <= a+c)\n",
    "            x_0 = sigLetra(x_0,'C')\n",
    "        elseif (a+c < r) & (r <= a+c+g)\n",
    "            x_0 = sigLetra(x_0,'G')\n",
    "        elseif (a+c+g) < r\n",
    "            x_0 = sigLetra(x_0,'T')\n",
    "        end\n",
    "        x = Int(x_0[1])\n",
    "        y = Int(x_0[2])\n",
    "        mat[x,y] += jump\n",
    "        i += 1\n",
    "    end\n",
    "    \n",
    "    temp = reshape(mat,n*n)\n",
    "    norm = maximum(temp)\n",
    "    print(norm)\n",
    "    \n",
    "    return mat\n",
    "end"
   ]
  },
  {
   "cell_type": "code",
   "execution_count": 132,
   "metadata": {},
   "outputs": [
    {
     "name": "stdout",
     "output_type": "stream",
     "text": [
      "402226.0"
     ]
    },
    {
     "data": {
      "text/plain": [
       "256×256 Array{Float64,2}:\n",
       " 537.0  1306.0  1317.0  2887.0  1288.0  …  177690.0  177030.0  402226.0\n",
       "   0.0     0.0     0.0     0.0     0.0          0.0       0.0       0.0\n",
       "   0.0     0.0     0.0     0.0     0.0          0.0       0.0       0.0\n",
       "   0.0     0.0     0.0     0.0     0.0          0.0       0.0       0.0\n",
       "   0.0     0.0     0.0     0.0     0.0          0.0       0.0       0.0\n",
       "   0.0     0.0     0.0     0.0     0.0  …       0.0       0.0       0.0\n",
       "   0.0     0.0     0.0     0.0     0.0          0.0       0.0       0.0\n",
       "   0.0     0.0     0.0     0.0     0.0          0.0       0.0       0.0\n",
       "   0.0     0.0     0.0     0.0     0.0          0.0       0.0       0.0\n",
       "   0.0     0.0     0.0     0.0     0.0          0.0       0.0       0.0\n",
       "   0.0     0.0     0.0     0.0     0.0  …       0.0       0.0       0.0\n",
       "   0.0     0.0     0.0     0.0     0.0          0.0       0.0       0.0\n",
       "   0.0     0.0     0.0     0.0     0.0          0.0       0.0       0.0\n",
       "   ⋮                                    ⋱                           ⋮  \n",
       "   0.0     0.0     0.0     0.0     0.0          0.0       0.0       0.0\n",
       "   0.0     0.0     0.0     0.0     0.0  …       0.0       0.0       0.0\n",
       "   0.0     0.0     0.0     0.0     0.0          0.0       0.0       0.0\n",
       "   0.0     0.0     0.0     0.0     0.0          0.0       0.0       0.0\n",
       "   0.0     0.0     0.0     0.0     0.0          0.0       0.0       0.0\n",
       "   0.0     0.0     0.0     0.0     0.0          0.0       0.0       0.0\n",
       "   0.0     0.0     0.0     0.0     0.0  …       0.0       0.0       0.0\n",
       "   0.0     0.0     0.0     0.0     0.0          0.0       0.0       0.0\n",
       "   0.0     0.0     0.0     0.0     0.0          0.0       0.0       0.0\n",
       "   0.0     0.0     0.0     0.0     0.0          0.0       0.0       0.0\n",
       "   0.0     0.0     0.0     0.0     0.0          0.0       0.0       0.0\n",
       "   0.0     0.0     0.0     0.0     0.0  …       0.0       0.0       0.0"
      ]
     },
     "execution_count": 132,
     "metadata": {},
     "output_type": "execute_result"
    }
   ],
   "source": [
    "lol = dibujoRand(0.3047,0.7379,0.7362,0.3047,7429612)"
   ]
  },
  {
   "cell_type": "code",
   "execution_count": 130,
   "metadata": {},
   "outputs": [
    {
     "data": {
      "image/png": "[encoded data removed]",
      "text/plain": [
       "256×256 Array{Gray{Float64},2}:\n",
       " Gray{Float64}(0.998604)  …  Gray{Float64}(0.00346009)\n",
       " Gray{Float64}(1.0)          Gray{Float64}(1.0)       \n",
       " Gray{Float64}(1.0)          Gray{Float64}(1.0)       \n",
       " Gray{Float64}(1.0)          Gray{Float64}(1.0)       \n",
       " Gray{Float64}(1.0)          Gray{Float64}(1.0)       \n",
       " Gray{Float64}(1.0)       …  Gray{Float64}(1.0)       \n",
       " Gray{Float64}(1.0)          Gray{Float64}(1.0)       \n",
       " Gray{Float64}(1.0)          Gray{Float64}(1.0)       \n",
       " Gray{Float64}(1.0)          Gray{Float64}(1.0)       \n",
       " Gray{Float64}(1.0)          Gray{Float64}(1.0)       \n",
       " Gray{Float64}(1.0)       …  Gray{Float64}(1.0)       \n",
       " Gray{Float64}(1.0)          Gray{Float64}(1.0)       \n",
       " Gray{Float64}(1.0)          Gray{Float64}(1.0)       \n",
       " ⋮                        ⋱  ⋮                        \n",
       " Gray{Float64}(1.0)          Gray{Float64}(1.0)       \n",
       " Gray{Float64}(1.0)       …  Gray{Float64}(1.0)       \n",
       " Gray{Float64}(1.0)          Gray{Float64}(1.0)       \n",
       " Gray{Float64}(1.0)          Gray{Float64}(1.0)       \n",
       " Gray{Float64}(1.0)          Gray{Float64}(1.0)       \n",
       " Gray{Float64}(1.0)          Gray{Float64}(1.0)       \n",
       " Gray{Float64}(1.0)       …  Gray{Float64}(1.0)       \n",
       " Gray{Float64}(1.0)          Gray{Float64}(1.0)       \n",
       " Gray{Float64}(1.0)          Gray{Float64}(1.0)       \n",
       " Gray{Float64}(1.0)          Gray{Float64}(1.0)       \n",
       " Gray{Float64}(1.0)          Gray{Float64}(1.0)       \n",
       " Gray{Float64}(1.0)       …  Gray{Float64}(1.0)       "
      ]
     },
     "execution_count": 130,
     "metadata": {},
     "output_type": "execute_result"
    }
   ],
   "source": [
    "Gray.(lol)"
   ]
  }
 ],
 "metadata": {
  "kernelspec": {
   "display_name": "Julia 0.6.4",
   "language": "julia",
   "name": "julia-0.6"
  },
  "language_info": {
   "file_extension": ".jl",
   "mimetype": "application/julia",
   "name": "julia",
   "version": "0.6.4"
  }
 },
 "nbformat": 4,
 "nbformat_minor": 2
}
