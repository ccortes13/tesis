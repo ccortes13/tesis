{
 "cells": [
  {
   "cell_type": "code",
   "execution_count": 1,
   "metadata": {},
   "outputs": [],
   "source": [
    "using JuMP\n",
    "using Clp"
   ]
  },
  {
   "cell_type": "code",
   "execution_count": 29,
   "metadata": {},
   "outputs": [
    {
     "data": {
      "text/plain": [
       "-3.8163916471489756e-17"
      ]
     },
     "execution_count": 29,
     "metadata": {},
     "output_type": "execute_result"
    }
   ],
   "source": [
    "m = Model(solver = ClpSolver())\n",
    "n = 4\n",
    "f(y) = rand(1:10,y,y)\n",
    "a = f(n)\n",
    "a = a/sum(a)\n",
    "b = f(n)\n",
    "b = b/sum(b)\n",
    "c = b-a\n",
    "sum(c)"
   ]
  },
  {
   "cell_type": "code",
   "execution_count": 30,
   "metadata": {},
   "outputs": [
    {
     "data": {
      "text/latex": [
       "$$ x_{i,j} \\geq 0 \\quad\\forall i \\in \\{1,2,3,4\\}, j \\in \\{1,2,3,4\\} $$"
      ],
      "text/plain": [
       "4×4 Array{JuMP.Variable,2}:\n",
       " x[1,1]  x[1,2]  x[1,3]  x[1,4]\n",
       " x[2,1]  x[2,2]  x[2,3]  x[2,4]\n",
       " x[3,1]  x[3,2]  x[3,3]  x[3,4]\n",
       " x[4,1]  x[4,2]  x[4,3]  x[4,4]"
      ]
     },
     "execution_count": 30,
     "metadata": {},
     "output_type": "execute_result"
    }
   ],
   "source": [
    "@variable(m, x[1:n,1:n] >= 0)"
   ]
  },
  {
   "cell_type": "code",
   "execution_count": 31,
   "metadata": {},
   "outputs": [
    {
     "data": {
      "text/plain": [
       "JuMP.JuMPArray{JuMP.ConstraintRef,2,Tuple{UnitRange{Int64},UnitRange{Int64}}}(JuMP.ConstraintRef[x[1,2] - x[1,1] ≤ 1 x[1,3] - x[1,2] ≤ 1 x[1,4] - x[1,3] ≤ 1; x[2,2] - x[2,1] ≤ 1 x[2,3] - x[2,2] ≤ 1 x[2,4] - x[2,3] ≤ 1; x[3,2] - x[3,1] ≤ 1 x[3,3] - x[3,2] ≤ 1 x[3,4] - x[3,3] ≤ 1; x[4,2] - x[4,1] ≤ 1 x[4,3] - x[4,2] ≤ 1 x[4,4] - x[4,3] ≤ 1], (1:4, 2:4), (Dict{Int64,Int64}(), Dict{Int64,Int64}()), Dict{Symbol,Any}())"
      ]
     },
     "execution_count": 31,
     "metadata": {},
     "output_type": "execute_result"
    }
   ],
   "source": [
    "@constraint(m,const1[i=1:n-1,j=1:n], x[i,j]-x[i+1,j] <= 1)\n",
    "@constraint(m,const2[i=2:n,j=1:n], x[i,j]-x[i-1,j] <= 1)\n",
    "@constraint(m,const3[i=1:n,j=1:n-1], x[i,j]-x[i,j+1] <= 1)\n",
    "@constraint(m,const4[i=1:n,j=2:n], x[i,j]-x[i,j-1] <= 1)"
   ]
  },
  {
   "cell_type": "code",
   "execution_count": 32,
   "metadata": {},
   "outputs": [
    {
     "data": {
      "text/plain": [
       ":Optimal"
      ]
     },
     "execution_count": 32,
     "metadata": {},
     "output_type": "execute_result"
    }
   ],
   "source": [
    "@objective(m, Max, sum(c[i,j]*x[i,j] for i=1:n for j=1:n))\n",
    "status = solve(m)                "
   ]
  },
  {
   "cell_type": "code",
   "execution_count": 33,
   "metadata": {},
   "outputs": [
    {
     "data": {
      "text/plain": [
       "0.37942583732057406"
      ]
     },
     "execution_count": 33,
     "metadata": {},
     "output_type": "execute_result"
    }
   ],
   "source": [
    "getobjectivevalue(m)"
   ]
  }
 ],
 "metadata": {
  "kernelspec": {
   "display_name": "Julia 0.6.4",
   "language": "julia",
   "name": "julia-0.6"
  },
  "language_info": {
   "file_extension": ".jl",
   "mimetype": "application/julia",
   "name": "julia",
   "version": "0.6.4"
  }
 },
 "nbformat": 4,
 "nbformat_minor": 2
}
